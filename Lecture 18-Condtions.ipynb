{
 "cells": [
  {
   "cell_type": "markdown",
   "metadata": {},
   "source": [
    "<h1 style=\"color:green\">Module 6: Python Control Flows<hr>\n",
    "Lecture 18: Python Conditional Structures\n",
    "</h1>"
   ]
  },
  {
   "cell_type": "code",
   "execution_count": 4,
   "metadata": {},
   "outputs": [
    {
     "name": "stdout",
     "output_type": "stream",
     "text": [
      "_________________\n",
      "Ënd of If\n"
     ]
    }
   ],
   "source": [
    "late = False\n",
    "if late:\n",
    "    print(\"I will miss my flight\")\n",
    "print(\"_________________\")\n",
    "print(\"Ënd of If\")"
   ]
  },
  {
   "cell_type": "code",
   "execution_count": 6,
   "metadata": {},
   "outputs": [
    {
     "name": "stdout",
     "output_type": "stream",
     "text": [
      "number is positive\n"
     ]
    }
   ],
   "source": [
    "num = 5\n",
    "if num>0 :\n",
    "    print(\"number is positive\")"
   ]
  },
  {
   "cell_type": "code",
   "execution_count": 35,
   "metadata": {},
   "outputs": [],
   "source": [
    "#If---else Construct"
   ]
  },
  {
   "cell_type": "code",
   "execution_count": 63,
   "metadata": {},
   "outputs": [
    {
     "name": "stdout",
     "output_type": "stream",
     "text": [
      "num1 is greater than num2\n"
     ]
    }
   ],
   "source": [
    "num1 = 12\n",
    "num2 = 5\n",
    "if num1 > num2 :\n",
    "    print(\"num1 is greater than num2\")\n",
    "else:\n",
    "    print(\"num2 is greater than num1\")"
   ]
  },
  {
   "cell_type": "code",
   "execution_count": 64,
   "metadata": {},
   "outputs": [
    {
     "name": "stdout",
     "output_type": "stream",
     "text": [
      "o is present in string\n"
     ]
    }
   ],
   "source": [
    "string = \"Hello\"\n",
    "if \"o\" in string:\n",
    "    print(\"o is present in string\")\n",
    "else:\n",
    "    print(\"o is not found\")"
   ]
  },
  {
   "cell_type": "code",
   "execution_count": 66,
   "metadata": {},
   "outputs": [
    {
     "name": "stdout",
     "output_type": "stream",
     "text": [
      "Enter username: admin\n",
      "Enter password: 123\n",
      "Incorrect username or password,try again\n"
     ]
    }
   ],
   "source": [
    "# example of If-ELSE  Sign-in\n",
    "username = input(\"Enter username: \")\n",
    "password = input(\"Enter password: \")\n",
    "if username == 'admin@skillcurb.com' and password == \"123\":\n",
    "    print(\"Logged in successfully! :)\")\n",
    "else:\n",
    "    print(\"Incorrect username or password,try again\")"
   ]
  },
  {
   "cell_type": "code",
   "execution_count": 68,
   "metadata": {},
   "outputs": [
    {
     "name": "stdout",
     "output_type": "stream",
     "text": [
      "Enter designationTeam Lead\n",
      "You earned bonus 1500\n",
      "Your salary for this month is 6500\n"
     ]
    }
   ],
   "source": [
    "salary = 5000\n",
    "bonus = 0\n",
    "designation = input(\"Enter designation\")\n",
    "if designation == \"Clerk\":\n",
    "    bonus = 100\n",
    "    salary = salary + bonus\n",
    "elif designation == \"Junior Developer\":\n",
    "    bonus = 1000\n",
    "    salary = salary + bonus\n",
    "elif designation == \"Team Lead\":\n",
    "    bonus = 1500\n",
    "    salary = salary + bonus\n",
    "elif designation == \"Manager\":\n",
    "    bonus= 2000\n",
    "    salary = salary + bonus\n",
    "print(\"You earned bonus\", bonus)\n",
    "print(\"Your salary for this month is\", salary)"
   ]
  },
  {
   "cell_type": "code",
   "execution_count": 69,
   "metadata": {},
   "outputs": [],
   "source": [
    "#nested if else"
   ]
  },
  {
   "cell_type": "code",
   "execution_count": 73,
   "metadata": {},
   "outputs": [
    {
     "name": "stdout",
     "output_type": "stream",
     "text": [
      "Number is negative\n"
     ]
    }
   ],
   "source": [
    "num = -3\n",
    "if num>=0:\n",
    "    if num==0:\n",
    "        print(\"Number is zero\")\n",
    "    else:\n",
    "        print(\"Number is positive\")\n",
    "else:\n",
    "    print(\"Number is negative\")\n",
    "        "
   ]
  },
  {
   "cell_type": "code",
   "execution_count": null,
   "metadata": {},
   "outputs": [],
   "source": []
  }
 ],
 "metadata": {
  "kernelspec": {
   "display_name": "Python 3",
   "language": "python",
   "name": "python3"
  },
  "language_info": {
   "codemirror_mode": {
    "name": "ipython",
    "version": 3
   },
   "file_extension": ".py",
   "mimetype": "text/x-python",
   "name": "python",
   "nbconvert_exporter": "python",
   "pygments_lexer": "ipython3",
   "version": "3.7.3"
  }
 },
 "nbformat": 4,
 "nbformat_minor": 2
}
