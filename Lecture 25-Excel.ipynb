{
 "cells": [
  {
   "cell_type": "markdown",
   "metadata": {},
   "source": [
    "<h2>Lecture 25: Importing Data from Excel</h2>"
   ]
  },
  {
   "cell_type": "code",
   "execution_count": 16,
   "metadata": {},
   "outputs": [],
   "source": [
    "#load the library to import data from excel workbook\n",
    "import xlrd"
   ]
  },
  {
   "cell_type": "code",
   "execution_count": 17,
   "metadata": {},
   "outputs": [],
   "source": [
    "book = xlrd.open_workbook('example1.xlsx')"
   ]
  },
  {
   "cell_type": "code",
   "execution_count": 18,
   "metadata": {},
   "outputs": [
    {
     "name": "stdout",
     "output_type": "stream",
     "text": [
      "2\n"
     ]
    }
   ],
   "source": [
    "print(book.nsheets)"
   ]
  },
  {
   "cell_type": "code",
   "execution_count": 19,
   "metadata": {},
   "outputs": [
    {
     "name": "stdout",
     "output_type": "stream",
     "text": [
      "['Schedule', 'Names']\n"
     ]
    }
   ],
   "source": [
    "print(book.sheet_names())"
   ]
  },
  {
   "cell_type": "code",
   "execution_count": 20,
   "metadata": {},
   "outputs": [
    {
     "name": "stdout",
     "output_type": "stream",
     "text": [
      "11\n"
     ]
    }
   ],
   "source": [
    "first_sheet = book.sheet_by_index(0)\n",
    "print(first_sheet.nrows)"
   ]
  },
  {
   "cell_type": "code",
   "execution_count": 21,
   "metadata": {},
   "outputs": [
    {
     "name": "stdout",
     "output_type": "stream",
     "text": [
      "5\n"
     ]
    }
   ],
   "source": [
    "print(first_sheet.ncols)"
   ]
  },
  {
   "cell_type": "code",
   "execution_count": 22,
   "metadata": {},
   "outputs": [
    {
     "name": "stdout",
     "output_type": "stream",
     "text": [
      "[1.0, 'Semester 1-A', 11.0, 'TTS', '5 to 7']\n"
     ]
    }
   ],
   "source": [
    "print(first_sheet.row_values(1))"
   ]
  },
  {
   "cell_type": "code",
   "execution_count": 23,
   "metadata": {},
   "outputs": [
    {
     "name": "stdout",
     "output_type": "stream",
     "text": [
      "['S#', 'Batch Code', 'Total Std in a Batch', 'Days', 'Timing']\n",
      "[1.0, 'Semester 1-A', 11.0, 'TTS', '5 to 7']\n",
      "[2.0, 'Semester 1-B', 9.0, 'TTS', '5 to 7']\n",
      "[3.0, 'Semester 2-A', 20.0, 'TTS', '7 to 9']\n",
      "[4.0, 'Semester 2-B', 17.0, 'TTS', '7 to 9']\n",
      "[5.0, 'Semester 2-C', 9.0, 'TTS', '7 to 9']\n",
      "[6.0, 'Semester 2-D', 17.0, 'TTS', '7 to 9']\n",
      "[7.0, 'Semester 1-C', 15.0, 'MWF', '9 to 11']\n",
      "[8.0, 'Semester 3-A', 16.0, 'TTS', '9 to 11']\n",
      "[9.0, 'Semester 3-B', 12.0, 'TTS', '9 to 11']\n",
      "[10.0, 'Semester 3-C', 17.0, 'TTS', '9 to 11']\n"
     ]
    }
   ],
   "source": [
    "for i in range(first_sheet.nrows):\n",
    "    print(first_sheet.row_values(i))"
   ]
  },
  {
   "cell_type": "code",
   "execution_count": 24,
   "metadata": {},
   "outputs": [
    {
     "name": "stdout",
     "output_type": "stream",
     "text": [
      "Semester 1-B\n"
     ]
    }
   ],
   "source": [
    "print(first_sheet.cell_value(2,1))"
   ]
  },
  {
   "cell_type": "code",
   "execution_count": null,
   "metadata": {},
   "outputs": [],
   "source": []
  }
 ],
 "metadata": {
  "kernelspec": {
   "display_name": "Python 3",
   "language": "python",
   "name": "python3"
  },
  "language_info": {
   "codemirror_mode": {
    "name": "ipython",
    "version": 3
   },
   "file_extension": ".py",
   "mimetype": "text/x-python",
   "name": "python",
   "nbconvert_exporter": "python",
   "pygments_lexer": "ipython3",
   "version": "3.7.3"
  }
 },
 "nbformat": 4,
 "nbformat_minor": 2
}
