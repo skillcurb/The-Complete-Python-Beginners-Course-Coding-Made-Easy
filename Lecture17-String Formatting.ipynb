{
 "cells": [
  {
   "cell_type": "markdown",
   "metadata": {},
   "source": [
    "<h1 style=\"color:blue\">Module 6:<hr>\n",
    "Lecture 17:String Formatting</h1>"
   ]
  },
  {
   "cell_type": "code",
   "execution_count": 1,
   "metadata": {},
   "outputs": [
    {
     "ename": "TypeError",
     "evalue": "can only concatenate str (not \"int\") to str",
     "output_type": "error",
     "traceback": [
      "\u001b[1;31m---------------------------------------------------------------------------\u001b[0m",
      "\u001b[1;31mTypeError\u001b[0m                                 Traceback (most recent call last)",
      "\u001b[1;32m<ipython-input-1-044a2e2301db>\u001b[0m in \u001b[0;36m<module>\u001b[1;34m\u001b[0m\n\u001b[0;32m      1\u001b[0m \u001b[0mage\u001b[0m \u001b[1;33m=\u001b[0m \u001b[1;36m23\u001b[0m\u001b[1;33m\u001b[0m\u001b[1;33m\u001b[0m\u001b[0m\n\u001b[1;32m----> 2\u001b[1;33m \u001b[0msentence\u001b[0m \u001b[1;33m=\u001b[0m \u001b[1;34m\"I am Sarah and I am \"\u001b[0m\u001b[1;33m+\u001b[0m\u001b[0mage\u001b[0m\u001b[1;33m+\u001b[0m\u001b[1;34m\"years old\"\u001b[0m\u001b[1;33m\u001b[0m\u001b[1;33m\u001b[0m\u001b[0m\n\u001b[0m\u001b[0;32m      3\u001b[0m \u001b[0mprint\u001b[0m\u001b[1;33m(\u001b[0m\u001b[0msentence\u001b[0m\u001b[1;33m)\u001b[0m\u001b[1;33m\u001b[0m\u001b[1;33m\u001b[0m\u001b[0m\n",
      "\u001b[1;31mTypeError\u001b[0m: can only concatenate str (not \"int\") to str"
     ]
    }
   ],
   "source": [
    "age = 23\n",
    "sentence = \"I am Sarah and I am \"+age+\"years old\"\n",
    "print(sentence)"
   ]
  },
  {
   "cell_type": "code",
   "execution_count": 2,
   "metadata": {},
   "outputs": [
    {
     "name": "stdout",
     "output_type": "stream",
     "text": [
      "I am Sarah and I am 23 years old\n"
     ]
    }
   ],
   "source": [
    "age = 23\n",
    "sentence = \"I am Sarah and I am {} years old\"\n",
    "print(sentence.format(age))"
   ]
  },
  {
   "cell_type": "code",
   "execution_count": 3,
   "metadata": {},
   "outputs": [
    {
     "name": "stdout",
     "output_type": "stream",
     "text": [
      "I have 3 books and 2 pens\n"
     ]
    }
   ],
   "source": [
    "str1 = \"I have {} books and {} pens\"\n",
    "print(str1.format(3,2))"
   ]
  },
  {
   "cell_type": "code",
   "execution_count": 14,
   "metadata": {},
   "outputs": [
    {
     "name": "stdout",
     "output_type": "stream",
     "text": [
      "I have bought 3 Doughnuts which costs dollars\n"
     ]
    }
   ],
   "source": [
    "qty = 3\n",
    "item = 'Doughnuts'\n",
    "price = 3.95\n",
    "sent =\"I have bought {} {} which costs dollars\"\n",
    "print(sent.format(qty,item,price))"
   ]
  },
  {
   "cell_type": "code",
   "execution_count": 16,
   "metadata": {},
   "outputs": [
    {
     "name": "stdout",
     "output_type": "stream",
     "text": [
      "I have bought 3 Doughnuts which costs 3.95 dollars\n"
     ]
    }
   ],
   "source": [
    "qty = 3\n",
    "item = 'Doughnuts'\n",
    "price = 3.95\n",
    "sent =\"I have bought {0} {1} which costs {2} dollars\"\n",
    "print(sent.format(qty,item,price))"
   ]
  },
  {
   "cell_type": "code",
   "execution_count": 17,
   "metadata": {},
   "outputs": [
    {
     "name": "stdout",
     "output_type": "stream",
     "text": [
      "I love Python!\n",
      "Lecture 17 is about String Formatting!!\n",
      "Python is the most widely used programming language\n"
     ]
    }
   ],
   "source": [
    "print(\"{0} love {1}!\".format(\"I\", \"Python\"))\n",
    "print(\"{1} is about {0}!!\".format(\"String Formatting\", \"Lecture 17\"))\n",
    "print(\"{2} is the most widely {3} {1} {0}\".format(\"language\",\"programming\", \"Python\", \"used\"))"
   ]
  },
  {
   "cell_type": "code",
   "execution_count": 28,
   "metadata": {},
   "outputs": [
    {
     "name": "stdout",
     "output_type": "stream",
     "text": [
      "Saarah has 3 books,2 pencils and 1 eraser\n"
     ]
    }
   ],
   "source": [
    "sent = \"Saarah has {s1} books,{s2} pencils and {s3} eraser\".format(s1=3,s2=2,s3=1)\n",
    "print(sent)"
   ]
  },
  {
   "cell_type": "code",
   "execution_count": 86,
   "metadata": {},
   "outputs": [
    {
     "name": "stdout",
     "output_type": "stream",
     "text": [
      "Python is a great choice for beginners\n"
     ]
    }
   ],
   "source": [
    "print(\"{st} is a great {1} for {0}\".format(\"beginners\", \"choice\",st =\"Python\"))"
   ]
  },
  {
   "cell_type": "code",
   "execution_count": 88,
   "metadata": {},
   "outputs": [
    {
     "name": "stdout",
     "output_type": "stream",
     "text": [
      "    Python is a great choice for beginners\n"
     ]
    }
   ],
   "source": [
    "print(\"{st:>10} is a great {1} for {0}\".format(\"beginners\", \"choice\",st =\"Python\"))"
   ]
  },
  {
   "cell_type": "code",
   "execution_count": 89,
   "metadata": {},
   "outputs": [
    {
     "name": "stdout",
     "output_type": "stream",
     "text": [
      "12\n"
     ]
    }
   ],
   "source": [
    "print(\"{0:d}\".format(12))"
   ]
  },
  {
   "cell_type": "code",
   "execution_count": 92,
   "metadata": {},
   "outputs": [
    {
     "name": "stdout",
     "output_type": "stream",
     "text": [
      "00012\n"
     ]
    }
   ],
   "source": [
    "print(\"{0:05d}\".format(12))"
   ]
  },
  {
   "cell_type": "code",
   "execution_count": 93,
   "metadata": {},
   "outputs": [
    {
     "name": "stdout",
     "output_type": "stream",
     "text": [
      "3.141570\n"
     ]
    }
   ],
   "source": [
    "print(\"{:f}\".format(3.14157))"
   ]
  },
  {
   "cell_type": "code",
   "execution_count": 96,
   "metadata": {},
   "outputs": [
    {
     "name": "stdout",
     "output_type": "stream",
     "text": [
      "   3.142\n"
     ]
    }
   ],
   "source": [
    "print(\"{:8.3f}\".format(3.14157))"
   ]
  },
  {
   "cell_type": "code",
   "execution_count": 97,
   "metadata": {},
   "outputs": [
    {
     "name": "stdout",
     "output_type": "stream",
     "text": [
      "The universe is 13,800,000,000 years old.\n"
     ]
    }
   ],
   "source": [
    "txt = \"The universe is {:,} years old.\"\n",
    "print(txt.format(13800000000))"
   ]
  },
  {
   "cell_type": "code",
   "execution_count": 98,
   "metadata": {},
   "outputs": [
    {
     "name": "stdout",
     "output_type": "stream",
     "text": [
      "+14.250000 -14.230000\n",
      "14.250000 -14.230000\n",
      " 14.250000 -14.230000\n"
     ]
    }
   ],
   "source": [
    "\n",
    "print(\"{:+f} {:+f}\".format(14.25, -14.23))\n",
    "\n",
    "\n",
    "print(\"{:-f} {:-f}\".format(14.25, -14.23))\n",
    "\n",
    "\n",
    "print(\"{: f} {: f}\".format(14.25, -14.23))"
   ]
  },
  {
   "cell_type": "code",
   "execution_count": 99,
   "metadata": {},
   "outputs": [
    {
     "name": "stdout",
     "output_type": "stream",
     "text": [
      "The binary version of 5 is 101\n"
     ]
    }
   ],
   "source": [
    "print(\"The binary version of 5 is {0:b}\".format(5))"
   ]
  },
  {
   "cell_type": "code",
   "execution_count": 100,
   "metadata": {},
   "outputs": [
    {
     "name": "stdout",
     "output_type": "stream",
     "text": [
      "You scored 25%\n"
     ]
    }
   ],
   "source": [
    "txt = \"You scored {:.0%}\"\n",
    "print(txt.format(0.25))"
   ]
  },
  {
   "cell_type": "code",
   "execution_count": null,
   "metadata": {},
   "outputs": [],
   "source": []
  }
 ],
 "metadata": {
  "kernelspec": {
   "display_name": "Python 3",
   "language": "python",
   "name": "python3"
  },
  "language_info": {
   "codemirror_mode": {
    "name": "ipython",
    "version": 3
   },
   "file_extension": ".py",
   "mimetype": "text/x-python",
   "name": "python",
   "nbconvert_exporter": "python",
   "pygments_lexer": "ipython3",
   "version": "3.7.3"
  }
 },
 "nbformat": 4,
 "nbformat_minor": 2
}
