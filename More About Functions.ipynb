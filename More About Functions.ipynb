{
 "cells": [
  {
   "cell_type": "markdown",
   "metadata": {},
   "source": [
    "<h2>\n",
    "Lecture 27: User-Defined Functions\n",
    "</h2>"
   ]
  },
  {
   "cell_type": "markdown",
   "metadata": {},
   "source": [
    "<b> More on Funcitons</b>"
   ]
  },
  {
   "cell_type": "code",
   "execution_count": 5,
   "metadata": {},
   "outputs": [],
   "source": [
    "# function to guess the lucky number\n",
    "def luckyNum(): \n",
    "    lucky_num = 10\n",
    "    number = 0\n",
    "    while(number != lucky_num):\n",
    "        number = int(input('Enter a number: '))\n",
    "        if number == lucky_num:\n",
    "            print('You guessed it correctly')\n",
    "        else:\n",
    "             print('Sorry incorrect, try again')"
   ]
  },
  {
   "cell_type": "code",
   "execution_count": 8,
   "metadata": {},
   "outputs": [
    {
     "name": "stdout",
     "output_type": "stream",
     "text": [
      "Enter a number: 5\n",
      "Sorry incorrect, try again\n",
      "Enter a number: 7\n",
      "Sorry incorrect, try again\n",
      "Enter a number: 10\n",
      "You guessed it correctly\n"
     ]
    }
   ],
   "source": [
    "#calling the function\n",
    "luckyNum()"
   ]
  },
  {
   "cell_type": "code",
   "execution_count": 9,
   "metadata": {},
   "outputs": [
    {
     "name": "stdout",
     "output_type": "stream",
     "text": [
      "Your billing amount = $227\n"
     ]
    }
   ],
   "source": [
    "#Program to calculate Billing Invoice\n",
    "def calculateInvoice(data):\n",
    "    billing_amount = 0\n",
    "    for i in data.values():\n",
    "        billing_amount =  i + billing_amount\n",
    "    return billing_amount \n",
    "#user order\n",
    "order = {'Fried rice':50,'Shashlik':75,'Burger':10,'Steak':80,'Pie':12}\n",
    "#calling of function\n",
    "total = calculateInvoice(order)\n",
    "print(\"Your billing amount = ${}\".format(total))"
   ]
  },
  {
   "cell_type": "code",
   "execution_count": null,
   "metadata": {},
   "outputs": [],
   "source": []
  }
 ],
 "metadata": {
  "kernelspec": {
   "display_name": "Python 3",
   "language": "python",
   "name": "python3"
  },
  "language_info": {
   "codemirror_mode": {
    "name": "ipython",
    "version": 3
   },
   "file_extension": ".py",
   "mimetype": "text/x-python",
   "name": "python",
   "nbconvert_exporter": "python",
   "pygments_lexer": "ipython3",
   "version": "3.7.3"
  }
 },
 "nbformat": 4,
 "nbformat_minor": 2
}
