{
 "cells": [
  {
   "cell_type": "markdown",
   "metadata": {},
   "source": [
    "<h2>Lecture 25: Importing Data from CSV</h2>"
   ]
  },
  {
   "cell_type": "code",
   "execution_count": 4,
   "metadata": {},
   "outputs": [],
   "source": [
    "#importing csv module\n",
    "import csv"
   ]
  },
  {
   "cell_type": "code",
   "execution_count": 7,
   "metadata": {},
   "outputs": [
    {
     "name": "stdout",
     "output_type": "stream",
     "text": [
      "['John, Doe,23']\n",
      "['Smith,Martin,26']\n",
      "['Sarah,Khan,13']\n",
      "['Rogger,Steve,33']\n",
      "['Rayyan,Clark,48']\n"
     ]
    }
   ],
   "source": [
    "#reading from a csv file\n",
    "with open('sample.csv','r') as csv_file:\n",
    "    csv_reader = csv.reader(csv_file)\n",
    "    next(csv_reader)\n",
    "    for line in csv_reader:\n",
    "        print(line)"
   ]
  },
  {
   "cell_type": "code",
   "execution_count": 12,
   "metadata": {},
   "outputs": [
    {
     "name": "stdout",
     "output_type": "stream",
     "text": [
      "File has been written successfully\n"
     ]
    }
   ],
   "source": [
    "#writing to a csv file\n",
    "myData = [[\"fname\", \"lname\", \"Country\"],\n",
    "          ['Smith', 'Brian', 'USA'],\n",
    "          ['Tom', 'Alex', 'UK']]\n",
    "with open('myfile2.csv','w') as csv_file:\n",
    "    csv_writer = csv.writer(csv_file,delimiter=';',lineterminator='\\n')\n",
    "    csv_writer.writerows(myData)\n",
    "print(\"File has been written successfully\")"
   ]
  },
  {
   "cell_type": "markdown",
   "metadata": {},
   "source": []
  }
 ],
 "metadata": {
  "kernelspec": {
   "display_name": "Python 3",
   "language": "python",
   "name": "python3"
  },
  "language_info": {
   "codemirror_mode": {
    "name": "ipython",
    "version": 3
   },
   "file_extension": ".py",
   "mimetype": "text/x-python",
   "name": "python",
   "nbconvert_exporter": "python",
   "pygments_lexer": "ipython3",
   "version": "3.7.3"
  }
 },
 "nbformat": 4,
 "nbformat_minor": 2
}
