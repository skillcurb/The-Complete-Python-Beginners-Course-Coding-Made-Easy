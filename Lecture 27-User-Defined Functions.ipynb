{
 "cells": [
  {
   "cell_type": "markdown",
   "metadata": {},
   "source": [
    "<h2>Lecture 21: User-defined Functions</h2>"
   ]
  },
  {
   "cell_type": "code",
   "execution_count": 1,
   "metadata": {},
   "outputs": [],
   "source": [
    "# function definition\n",
    "\n",
    "def my_function():\n",
    "    print(\"Hello from a function\")\n"
   ]
  },
  {
   "cell_type": "code",
   "execution_count": 2,
   "metadata": {},
   "outputs": [
    {
     "name": "stdout",
     "output_type": "stream",
     "text": [
      "Hello from a function\n"
     ]
    }
   ],
   "source": [
    "my_function() # function call\n"
   ]
  },
  {
   "cell_type": "code",
   "execution_count": 2,
   "metadata": {},
   "outputs": [],
   "source": [
    "def modified_function(data):\n",
    "    print(\"Hello \"+data)\n",
    "    "
   ]
  },
  {
   "cell_type": "code",
   "execution_count": 10,
   "metadata": {},
   "outputs": [
    {
     "name": "stdout",
     "output_type": "stream",
     "text": [
      "Hello Sarah\n",
      "Enter a name: Robert\n",
      "Hello Robert\n"
     ]
    }
   ],
   "source": [
    "modified_function(\"Sarah\")\n",
    "\n",
    "data = input('Enter a name: ')\n",
    "modified_function(data)\n"
   ]
  },
  {
   "cell_type": "code",
   "execution_count": 5,
   "metadata": {},
   "outputs": [
    {
     "ename": "TypeError",
     "evalue": "modified_function() takes 1 positional argument but 2 were given",
     "output_type": "error",
     "traceback": [
      "\u001b[1;31m---------------------------------------------------------------------------\u001b[0m",
      "\u001b[1;31mTypeError\u001b[0m                                 Traceback (most recent call last)",
      "\u001b[1;32m<ipython-input-5-c81197a8c99d>\u001b[0m in \u001b[0;36m<module>\u001b[1;34m\u001b[0m\n\u001b[0;32m      1\u001b[0m \u001b[1;31m#this is incorrect and throw an error,as your function definition requires only one input paramter\u001b[0m\u001b[1;33m\u001b[0m\u001b[1;33m\u001b[0m\u001b[1;33m\u001b[0m\u001b[0m\n\u001b[1;32m----> 2\u001b[1;33m \u001b[0mmodified_function\u001b[0m\u001b[1;33m(\u001b[0m\u001b[1;34m'George'\u001b[0m\u001b[1;33m,\u001b[0m\u001b[1;34m'Emily'\u001b[0m\u001b[1;33m)\u001b[0m\u001b[1;33m\u001b[0m\u001b[1;33m\u001b[0m\u001b[0m\n\u001b[0m",
      "\u001b[1;31mTypeError\u001b[0m: modified_function() takes 1 positional argument but 2 were given"
     ]
    }
   ],
   "source": [
    "#this is incorrect and throw an error,as your function definition requires only one input paramter\n",
    "modified_function('George','Emily')"
   ]
  },
  {
   "cell_type": "code",
   "execution_count": 3,
   "metadata": {},
   "outputs": [
    {
     "name": "stdout",
     "output_type": "stream",
     "text": [
      "I am from USA\n"
     ]
    }
   ],
   "source": [
    "# function definition with default argument\n",
    "def my_function2(country = \"Norway\"):\n",
    "    print(\"I am from \" + country)\n",
    "my_function2('USA')"
   ]
  },
  {
   "cell_type": "code",
   "execution_count": 4,
   "metadata": {},
   "outputs": [
    {
     "name": "stdout",
     "output_type": "stream",
     "text": [
      "I am from Norway\n"
     ]
    }
   ],
   "source": [
    "my_function2()"
   ]
  },
  {
   "cell_type": "code",
   "execution_count": 6,
   "metadata": {},
   "outputs": [],
   "source": [
    "# Keyword Arguments\n",
    "def my_function(child1, child2):\n",
    "    print(\"The youngest child is \" + child2)\n",
    "    "
   ]
  },
  {
   "cell_type": "code",
   "execution_count": 7,
   "metadata": {},
   "outputs": [
    {
     "name": "stdout",
     "output_type": "stream",
     "text": [
      "The youngest child is Arthur\n"
     ]
    }
   ],
   "source": [
    "my_function(child1 = \"Ivy\", child2 = \"Arthur\")"
   ]
  },
  {
   "cell_type": "code",
   "execution_count": 6,
   "metadata": {},
   "outputs": [],
   "source": [
    "# function with reference\n",
    "def myfunction(x):\n",
    "    x.append(\"20\")\n",
    "    return x\n"
   ]
  },
  {
   "cell_type": "code",
   "execution_count": 10,
   "metadata": {},
   "outputs": [
    {
     "name": "stdout",
     "output_type": "stream",
     "text": [
      "value of argument a before calling function ['10']\n"
     ]
    }
   ],
   "source": [
    "a = [\"10\"]\n",
    "print (\"value of argument a before calling function\",a)"
   ]
  },
  {
   "cell_type": "code",
   "execution_count": 11,
   "metadata": {},
   "outputs": [
    {
     "name": "stdout",
     "output_type": "stream",
     "text": [
      "id of received argument 2793979847816\n"
     ]
    },
    {
     "data": {
      "text/plain": [
       "['10', '20']"
      ]
     },
     "execution_count": 11,
     "metadata": {},
     "output_type": "execute_result"
    }
   ],
   "source": [
    "b = myfunction(a)\n",
    "b"
   ]
  },
  {
   "cell_type": "code",
   "execution_count": 12,
   "metadata": {},
   "outputs": [
    {
     "data": {
      "text/plain": [
       "['10', '20']"
      ]
     },
     "execution_count": 12,
     "metadata": {},
     "output_type": "execute_result"
    }
   ],
   "source": [
    "a #now values are also added in a "
   ]
  },
  {
   "cell_type": "code",
   "execution_count": 17,
   "metadata": {},
   "outputs": [
    {
     "name": "stdout",
     "output_type": "stream",
     "text": [
      "The square of the number is :  9\n"
     ]
    }
   ],
   "source": [
    "def square(x):\n",
    "    return (x*x)\n",
    "print(\"The square of the number is : \", square(3))\n"
   ]
  },
  {
   "cell_type": "code",
   "execution_count": 21,
   "metadata": {},
   "outputs": [
    {
     "name": "stdout",
     "output_type": "stream",
     "text": [
      "The square of the x is 9\n"
     ]
    }
   ],
   "source": [
    "print(\"The square of the x is {0}\".format( square(3)))"
   ]
  },
  {
   "cell_type": "code",
   "execution_count": 24,
   "metadata": {},
   "outputs": [],
   "source": [
    "# returning multiple values\n",
    "def func(x):\n",
    "    return x**2,x**3"
   ]
  },
  {
   "cell_type": "code",
   "execution_count": 26,
   "metadata": {},
   "outputs": [
    {
     "name": "stdout",
     "output_type": "stream",
     "text": [
      "Enter a number to calculate its square and cube: 2\n",
      "Square of 2 is 4\n",
      "Cube of 2 is 8\n"
     ]
    }
   ],
   "source": [
    "num=int(input('Enter a number to calculate its square and cube: '))\n",
    "a,b = func(num)\n",
    "print('Square of {} is {}'.format(num,a))\n",
    "print('Cube of {} is {}'.format(num,b))"
   ]
  },
  {
   "cell_type": "code",
   "execution_count": 34,
   "metadata": {},
   "outputs": [
    {
     "name": "stdout",
     "output_type": "stream",
     "text": [
      "Enter a number: 5\n",
      "Sorry incorrect, try again\n",
      "Enter a number: 10\n",
      "You guessed it correctly\n"
     ]
    }
   ],
   "source": [
    "# function to guess the lucky number\n",
    "def luckyNum(): \n",
    "    lucky_num = 10\n",
    "    number = 0\n",
    "    while(number != lucky_num):\n",
    "        number = int(input('Enter a number: '))\n",
    "        if number == lucky_num:\n",
    "            print('You guessed it correctly')\n",
    "        else:\n",
    "             print('Sorry incorrect, try again')\n",
    "         \n",
    "    \n",
    "\n",
    "# Calling function \n",
    "luckyNum()\n"
   ]
  },
  {
   "cell_type": "code",
   "execution_count": null,
   "metadata": {},
   "outputs": [],
   "source": []
  }
 ],
 "metadata": {
  "kernelspec": {
   "display_name": "Python 3",
   "language": "python",
   "name": "python3"
  },
  "language_info": {
   "codemirror_mode": {
    "name": "ipython",
    "version": 3
   },
   "file_extension": ".py",
   "mimetype": "text/x-python",
   "name": "python",
   "nbconvert_exporter": "python",
   "pygments_lexer": "ipython3",
   "version": "3.7.3"
  }
 },
 "nbformat": 4,
 "nbformat_minor": 2
}
